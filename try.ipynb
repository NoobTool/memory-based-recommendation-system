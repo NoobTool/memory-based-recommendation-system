{
 "cells": [
  {
   "cell_type": "code",
   "execution_count": 1,
   "id": "716ae8dd",
   "metadata": {},
   "outputs": [],
   "source": [
    "import pandas as pd\n",
    "import numpy as np"
   ]
  },
  {
   "cell_type": "code",
   "execution_count": 2,
   "id": "4bfe3bee",
   "metadata": {},
   "outputs": [],
   "source": [
    "names = ['user_id', 'item_id', 'rating', 'timestamp']\n",
    "df = pd.read_csv('ml-100k/u.data',sep='\\t',names=names)\n",
    "\n",
    "i_cols = ['movie id', 'movie title' ,'release date','video release date', 'IMDb URL', 'unknown', 'Action', 'Adventure',\n",
    " 'Animation', 'Children\\'s', 'Comedy', 'Crime', 'Documentary', 'Drama', 'Fantasy',\n",
    " 'Film-Noir', 'Horror', 'Musical', 'Mystery', 'Romance', 'Sci-Fi', 'Thriller', 'War', 'Western']\n",
    "items = pd.read_csv('ml-100k/u.item', sep='|', names=i_cols, encoding='latin-1')\n"
   ]
  },
  {
   "cell_type": "code",
   "execution_count": 3,
   "id": "78368d3d",
   "metadata": {},
   "outputs": [],
   "source": [
    "user_item_df = np.zeros((len(df['user_id'].unique()),len(items)))\n",
    "\n",
    "for x in df.itertuples():\n",
    "    user_item_df[x[1]-1,x[2]-1] = x[3]\n",
    "    \n",
    "user_item_df = pd.DataFrame(user_item_df)"
   ]
  },
  {
   "cell_type": "code",
   "execution_count": 5,
   "id": "981ce753",
   "metadata": {},
   "outputs": [
    {
     "data": {
      "text/plain": [
       "(     0     1     2     3     4     5     6     7     8     9     ...  1672  \\\n",
       " 0     5.0   3.0   0.0   0.0   3.0   5.0   4.0   1.0   5.0   3.0  ...   0.0   \n",
       " 1     4.0   0.0   0.0   0.0   0.0   0.0   0.0   0.0   0.0   2.0  ...   0.0   \n",
       " 2     0.0   0.0   0.0   0.0   0.0   0.0   0.0   0.0   0.0   0.0  ...   0.0   \n",
       " 3     0.0   0.0   0.0   0.0   0.0   0.0   0.0   0.0   0.0   0.0  ...   0.0   \n",
       " 4     0.0   0.0   0.0   0.0   0.0   0.0   0.0   0.0   0.0   0.0  ...   0.0   \n",
       " ..    ...   ...   ...   ...   ...   ...   ...   ...   ...   ...  ...   ...   \n",
       " 938   0.0   0.0   0.0   0.0   0.0   0.0   0.0   0.0   5.0   0.0  ...   0.0   \n",
       " 939   0.0   0.0   0.0   0.0   0.0   0.0   4.0   5.0   3.0   0.0  ...   0.0   \n",
       " 940   5.0   0.0   0.0   0.0   0.0   0.0   4.0   0.0   0.0   0.0  ...   0.0   \n",
       " 941   0.0   0.0   0.0   0.0   0.0   0.0   0.0   0.0   0.0   0.0  ...   0.0   \n",
       " 942   0.0   5.0   0.0   0.0   0.0   0.0   0.0   0.0   3.0   0.0  ...   0.0   \n",
       " \n",
       "      1673  1674  1675  1676  1677  1678  1679  1680  1681  \n",
       " 0     0.0   0.0   0.0   0.0   0.0   0.0   0.0   0.0   0.0  \n",
       " 1     0.0   0.0   0.0   0.0   0.0   0.0   0.0   0.0   0.0  \n",
       " 2     0.0   0.0   0.0   0.0   0.0   0.0   0.0   0.0   0.0  \n",
       " 3     0.0   0.0   0.0   0.0   0.0   0.0   0.0   0.0   0.0  \n",
       " 4     0.0   0.0   0.0   0.0   0.0   0.0   0.0   0.0   0.0  \n",
       " ..    ...   ...   ...   ...   ...   ...   ...   ...   ...  \n",
       " 938   0.0   0.0   0.0   0.0   0.0   0.0   0.0   0.0   0.0  \n",
       " 939   0.0   0.0   0.0   0.0   0.0   0.0   0.0   0.0   0.0  \n",
       " 940   0.0   0.0   0.0   0.0   0.0   0.0   0.0   0.0   0.0  \n",
       " 941   0.0   0.0   0.0   0.0   0.0   0.0   0.0   0.0   0.0  \n",
       " 942   0.0   0.0   0.0   0.0   0.0   0.0   0.0   0.0   0.0  \n",
       " \n",
       " [943 rows x 1682 columns],\n",
       "      0     1     2     3     4     5     6     7     8     9     ...  1672  \\\n",
       " 0     0.0   0.0   4.0   3.0   0.0   0.0   0.0   0.0   0.0   0.0  ...   0.0   \n",
       " 1     0.0   0.0   0.0   0.0   0.0   0.0   0.0   0.0   0.0   0.0  ...   0.0   \n",
       " 2     0.0   0.0   0.0   0.0   0.0   0.0   0.0   0.0   0.0   0.0  ...   0.0   \n",
       " 3     0.0   0.0   0.0   0.0   0.0   0.0   0.0   0.0   0.0   0.0  ...   0.0   \n",
       " 4     4.0   3.0   0.0   0.0   0.0   0.0   0.0   0.0   0.0   0.0  ...   0.0   \n",
       " ..    ...   ...   ...   ...   ...   ...   ...   ...   ...   ...  ...   ...   \n",
       " 938   0.0   0.0   0.0   0.0   0.0   0.0   0.0   0.0   0.0   0.0  ...   0.0   \n",
       " 939   0.0   0.0   0.0   2.0   0.0   0.0   0.0   0.0   0.0   0.0  ...   0.0   \n",
       " 940   0.0   0.0   0.0   0.0   0.0   0.0   0.0   0.0   0.0   0.0  ...   0.0   \n",
       " 941   0.0   0.0   0.0   0.0   0.0   0.0   0.0   0.0   0.0   0.0  ...   0.0   \n",
       " 942   0.0   0.0   0.0   0.0   0.0   0.0   0.0   0.0   0.0   0.0  ...   0.0   \n",
       " \n",
       "      1673  1674  1675  1676  1677  1678  1679  1680  1681  \n",
       " 0     0.0   0.0   0.0   0.0   0.0   0.0   0.0   0.0   0.0  \n",
       " 1     0.0   0.0   0.0   0.0   0.0   0.0   0.0   0.0   0.0  \n",
       " 2     0.0   0.0   0.0   0.0   0.0   0.0   0.0   0.0   0.0  \n",
       " 3     0.0   0.0   0.0   0.0   0.0   0.0   0.0   0.0   0.0  \n",
       " 4     0.0   0.0   0.0   0.0   0.0   0.0   0.0   0.0   0.0  \n",
       " ..    ...   ...   ...   ...   ...   ...   ...   ...   ...  \n",
       " 938   0.0   0.0   0.0   0.0   0.0   0.0   0.0   0.0   0.0  \n",
       " 939   0.0   0.0   0.0   0.0   0.0   0.0   0.0   0.0   0.0  \n",
       " 940   0.0   0.0   0.0   0.0   0.0   0.0   0.0   0.0   0.0  \n",
       " 941   0.0   0.0   0.0   0.0   0.0   0.0   0.0   0.0   0.0  \n",
       " 942   0.0   0.0   0.0   0.0   0.0   0.0   0.0   0.0   0.0  \n",
       " \n",
       " [943 rows x 1682 columns])"
      ]
     },
     "execution_count": 5,
     "metadata": {},
     "output_type": "execute_result"
    }
   ],
   "source": [
    "from sklearn.model_selection import train_test_split\n",
    "train_df,test_df = train_test_split(df, test_size=0.2)\n",
    "\n",
    "# Training Dataset\n",
    "train_ds = np.zeros((len(df['user_id'].unique()),len(items)))\n",
    "for row in train_df.itertuples():\n",
    "    train_ds[row[1]-1, row[2]-1] = row[3]\n",
    "train_ds = pd.DataFrame(train_ds)\n",
    "\n",
    "# Testing Dataset\n",
    "test_ds = np.zeros((len(df['user_id'].unique()),len(items)))\n",
    "for row in test_df.itertuples():\n",
    "    test_ds[row[1]-1, row[2]-1] = row[3]\n",
    "test_ds = pd.DataFrame(test_ds)"
   ]
  },
  {
   "cell_type": "code",
   "execution_count": 7,
   "id": "4b2223d4",
   "metadata": {},
   "outputs": [],
   "source": [
    "GAMMA = 30\n",
    "EPSILON = 1e-9\n",
    "\n",
    "pearson_mat = np.zeros((len(df['user_id'].unique()),len(df['user_id'].unique())))\n",
    "\n",
    "for i,user_vector1 in enumerate(train_ds.values):\n",
    "    for j,user_vector2 in enumerate(train_ds.values):\n",
    "        \n",
    "        mask_i = user_vector1>0\n",
    "        mask_j = user_vector2>0\n",
    "        \n",
    "        corratedItems = np.intersect1d(np.where(mask_i),np.where(mask_j))\n",
    "        \n",
    "        if len(corratedItems)==0:\n",
    "            continue\n",
    "        \n",
    "        user_masked_vector1 = user_vector1[mask_i]\n",
    "        user_masked_vector2 = user_vector2[mask_j]\n",
    "        \n",
    "        mean_vector1 = np.sum(user_masked_vector1)/(np.sum(np.clip(user_vector1,0,1))+EPSILON)\n",
    "        mean_vector2 = np.sum(user_masked_vector2)/(np.sum(np.clip(user_vector2,0,1))+EPSILON)\n",
    "        \n",
    "        subtracted_i = user_vector1[corratedItems]-mean_vector1\n",
    "        subtracted_j = user_vector2[corratedItems]-mean_vector2\n",
    "        \n",
    "        numerator = subtracted_i * subtracted_j\n",
    "        numerator = np.sum(numerator)\n",
    "        \n",
    "        squared_i = np.square(subtracted_i)\n",
    "        squared_j = np.square(subtracted_j)\n",
    "        \n",
    "        sqrt_i = np.sqrt(np.sum(squared_i))\n",
    "        sqrt_j = np.sqrt(np.sum(squared_j))\n",
    "        \n",
    "        denominator = sqrt_i*sqrt_j\n",
    "        \n",
    "        sim = numerator/(denominator+EPSILON)\n",
    "        \n",
    "        pearson_mat[i][j] = (min(len(corratedItems),GAMMA)/GAMMA)*sim"
   ]
  },
  {
   "cell_type": "code",
   "execution_count": 9,
   "id": "9fb2ed12",
   "metadata": {},
   "outputs": [
    {
     "data": {
      "text/plain": [
       "array([[ 1.        ,  0.14532078, -0.01258684, ...,  0.04132055,\n",
       "        -0.0238206 ,  0.14876828],\n",
       "       [ 0.14532078,  1.        ,  0.08897483, ..., -0.01289529,\n",
       "         0.01305923,  0.13834429],\n",
       "       [-0.01258684,  0.08897483,  1.        , ...,  0.10582073,\n",
       "        -0.03550603,  0.03333333],\n",
       "       ...,\n",
       "       [ 0.04132055, -0.01289529,  0.10582073, ...,  0.6       ,\n",
       "        -0.02763688,  0.0165001 ],\n",
       "       [-0.0238206 ,  0.01305923, -0.03550603, ..., -0.02763688,\n",
       "         1.        ,  0.15513162],\n",
       "       [ 0.14876828,  0.13834429,  0.03333333, ...,  0.0165001 ,\n",
       "         0.15513162,  1.        ]])"
      ]
     },
     "execution_count": 9,
     "metadata": {},
     "output_type": "execute_result"
    }
   ],
   "source": [
    "pearson_mat"
   ]
  },
  {
   "cell_type": "code",
   "execution_count": 10,
   "id": "d9314219",
   "metadata": {},
   "outputs": [],
   "source": [
    "k=100\n",
    "np_predictions = np.zeros((len(df['user_id'].unique()),len(items)))\n",
    "\n",
    "for (i,j),rating in np.ndenumerate(test_ds.values):\n",
    "    if rating>0:\n",
    "        \n",
    "        sim_users_id = np.argsort(pearson_mat[i])[-k:]\n",
    "        sim_val = pearson_mat[i][sim_users_id]\n",
    "        sim_users = train_ds.values[sim_users_id]\n",
    "        \n",
    "        curr_user_mean = np.sum(train_df.values[i]) / (np.sum(np.clip(train_ds.values[i], 0, 1)) + EPSILON)\n",
    "        sim_users_mean = np.sum(sim_users,axis=1)/ (np.sum(np.clip(sim_users, 0, 1),axis=1) + EPSILON)\n",
    "        \n",
    "        masked_j = sim_users[:,j]>0\n",
    "        \n",
    "        subtracted_mean = sim_users[masked_j,j]-sim_users_mean[masked_j]\n",
    "        \n",
    "        numerator = np.sum(sim_val[masked_j]*subtracted_mean)\n",
    "        denominator = np.sum(sim_val[masked_j])\n",
    "        \n",
    "        np_predictions[i][j] = curr_user_mean + (numerator/(denominator+EPSILON))\n",
    "        np_predictions[i][j] = np.clip(np_predictions[i][j], 0, 5)\n",
    "        "
   ]
  },
  {
   "cell_type": "code",
   "execution_count": 13,
   "id": "fa877206",
   "metadata": {},
   "outputs": [
    {
     "data": {
      "text/plain": [
       "0.04282131432181302"
      ]
     },
     "execution_count": 13,
     "metadata": {},
     "output_type": "execute_result"
    }
   ],
   "source": [
    "from sklearn.metrics import mean_squared_error\n",
    "mean_squared_error(np_predictions,test_ds.values)"
   ]
  },
  {
   "cell_type": "code",
   "execution_count": null,
   "id": "0f0369bf",
   "metadata": {},
   "outputs": [],
   "source": []
  },
  {
   "cell_type": "code",
   "execution_count": null,
   "id": "6397f70e",
   "metadata": {},
   "outputs": [],
   "source": []
  }
 ],
 "metadata": {
  "kernelspec": {
   "display_name": "Python 3",
   "language": "python",
   "name": "python3"
  },
  "language_info": {
   "codemirror_mode": {
    "name": "ipython",
    "version": 3
   },
   "file_extension": ".py",
   "mimetype": "text/x-python",
   "name": "python",
   "nbconvert_exporter": "python",
   "pygments_lexer": "ipython3",
   "version": "3.8.5"
  }
 },
 "nbformat": 4,
 "nbformat_minor": 5
}
