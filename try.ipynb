{
 "cells": [
  {
   "cell_type": "code",
   "execution_count": 1,
   "id": "716ae8dd",
   "metadata": {},
   "outputs": [],
   "source": [
    "import pandas as pd\n",
    "import numpy as np"
   ]
  },
  {
   "cell_type": "code",
   "execution_count": 2,
   "id": "4bfe3bee",
   "metadata": {},
   "outputs": [],
   "source": [
    "names = ['user_id', 'item_id', 'rating', 'timestamp']\n",
    "df = pd.read_csv('ml-100k/u.data',sep='\\t',names=names)\n",
    "\n",
    "i_cols = ['movie id', 'movie title' ,'release date','video release date', 'IMDb URL', 'unknown', 'Action', 'Adventure',\n",
    " 'Animation', 'Children\\'s', 'Comedy', 'Crime', 'Documentary', 'Drama', 'Fantasy',\n",
    " 'Film-Noir', 'Horror', 'Musical', 'Mystery', 'Romance', 'Sci-Fi', 'Thriller', 'War', 'Western']\n",
    "items = pd.read_csv('ml-100k/u.item', sep='|', names=i_cols, encoding='latin-1')\n"
   ]
  },
  {
   "cell_type": "code",
   "execution_count": 3,
   "id": "78368d3d",
   "metadata": {},
   "outputs": [],
   "source": [
    "user_item_df = np.zeros((len(df['user_id'].unique()),len(items)))\n",
    "\n",
    "for x in df.itertuples():\n",
    "    user_item_df[x[1]-1,x[2]-1] = x[3]\n",
    "    \n",
    "user_item_df = pd.DataFrame(user_item_df)"
   ]
  },
  {
   "cell_type": "code",
   "execution_count": 4,
   "id": "981ce753",
   "metadata": {},
   "outputs": [],
   "source": [
    "from sklearn.model_selection import train_test_split\n",
    "train_df,test_df = train_test_split(df, test_size=0.2)\n",
    "\n",
    "# Training Dataset\n",
    "train_ds = np.zeros((len(df['user_id'].unique()),len(items)))\n",
    "for row in train_df.itertuples():\n",
    "    train_ds[row[1]-1, row[2]-1] = row[3]\n",
    "train_ds = pd.DataFrame(train_ds)\n",
    "\n",
    "# Testing Dataset\n",
    "test_ds = np.zeros((len(df['user_id'].unique()),len(items)))\n",
    "for row in test_df.itertuples():\n",
    "    test_ds[row[1]-1, row[2]-1] = row[3]\n",
    "test_ds = pd.DataFrame(test_ds)"
   ]
  },
  {
   "cell_type": "code",
   "execution_count": 5,
   "id": "4b2223d4",
   "metadata": {},
   "outputs": [],
   "source": [
    "GAMMA = 30\n",
    "EPSILON = 1e-9\n",
    "\n",
    "pearson_mat = np.zeros((len(df['user_id'].unique()),len(df['user_id'].unique())))\n",
    "\n",
    "for i,user_vector1 in enumerate(train_ds.values):\n",
    "    for j,user_vector2 in enumerate(train_ds.values):\n",
    "        \n",
    "        mask_i = user_vector1>0\n",
    "        mask_j = user_vector2>0\n",
    "        \n",
    "        corratedItems = np.intersect1d(np.where(mask_i),np.where(mask_j))\n",
    "        \n",
    "        if len(corratedItems)==0:\n",
    "            continue\n",
    "        \n",
    "        user_masked_vector1 = user_vector1[mask_i]\n",
    "        user_masked_vector2 = user_vector2[mask_j]\n",
    "        \n",
    "        mean_vector1 = np.sum(user_masked_vector1)/(np.sum(np.clip(user_vector1,0,1))+EPSILON)\n",
    "        mean_vector2 = np.sum(user_masked_vector2)/(np.sum(np.clip(user_vector2,0,1))+EPSILON)\n",
    "        \n",
    "        subtracted_i = user_vector1[corratedItems]-mean_vector1\n",
    "        subtracted_j = user_vector2[corratedItems]-mean_vector2\n",
    "        \n",
    "        numerator = subtracted_i * subtracted_j\n",
    "        numerator = np.sum(numerator)\n",
    "        \n",
    "        squared_i = np.square(subtracted_i)\n",
    "        squared_j = np.square(subtracted_j)\n",
    "        \n",
    "        sqrt_i = np.sqrt(np.sum(squared_i))\n",
    "        sqrt_j = np.sqrt(np.sum(squared_j))\n",
    "        \n",
    "        denominator = sqrt_i*sqrt_j\n",
    "        \n",
    "        sim = numerator/(denominator+EPSILON)\n",
    "        \n",
    "        pearson_mat[i][j] = (min(len(corratedItems),GAMMA)/GAMMA)*sim"
   ]
  },
  {
   "cell_type": "code",
   "execution_count": 6,
   "id": "9fb2ed12",
   "metadata": {},
   "outputs": [
    {
     "data": {
      "text/plain": [
       "array([[ 1.        ,  0.17128443,  0.04642496, ..., -0.00778464,\n",
       "        -0.12926963,  0.09936138],\n",
       "       [ 0.17128443,  1.        ,  0.12330717, ..., -0.01201608,\n",
       "        -0.0451483 ,  0.06033866],\n",
       "       [ 0.04642496,  0.12330717,  1.        , ...,  0.11975931,\n",
       "         0.08573001,  0.0103416 ],\n",
       "       ...,\n",
       "       [-0.00778464, -0.01201608,  0.11975931, ...,  0.56666667,\n",
       "        -0.03307593,  0.01661086],\n",
       "       [-0.12926963, -0.0451483 ,  0.08573001, ..., -0.03307593,\n",
       "         1.        ,  0.03885336],\n",
       "       [ 0.09936138,  0.06033866,  0.0103416 , ...,  0.01661086,\n",
       "         0.03885336,  1.        ]])"
      ]
     },
     "execution_count": 6,
     "metadata": {},
     "output_type": "execute_result"
    }
   ],
   "source": [
    "pearson_mat"
   ]
  },
  {
   "cell_type": "code",
   "execution_count": 7,
   "id": "d9314219",
   "metadata": {},
   "outputs": [],
   "source": [
    "k=100\n",
    "np_predictions = np.zeros((len(df['user_id'].unique()),len(items)))\n",
    "\n",
    "for (i,j),rating in np.ndenumerate(test_ds.values):\n",
    "    if rating>0:\n",
    "        \n",
    "        sim_users_id = np.argsort(pearson_mat[i])[-k:]\n",
    "        sim_val = pearson_mat[i][sim_users_id]\n",
    "        sim_users = train_ds.values[sim_users_id]\n",
    "        \n",
    "        curr_user_mean = np.sum(train_df.values[i]) / (np.sum(np.clip(train_ds.values[i], 0, 1)) + EPSILON)\n",
    "        sim_users_mean = np.sum(sim_users,axis=1)/ (np.sum(np.clip(sim_users, 0, 1),axis=1) + EPSILON)\n",
    "        \n",
    "        masked_j = sim_users[:,j]>0\n",
    "        \n",
    "        subtracted_mean = sim_users[masked_j,j]-sim_users_mean[masked_j]\n",
    "        \n",
    "        numerator = np.sum(sim_val[masked_j]*subtracted_mean)\n",
    "        denominator = np.sum(sim_val[masked_j])\n",
    "        \n",
    "        np_predictions[i][j] = curr_user_mean + (numerator/(denominator+EPSILON))\n",
    "        np_predictions[i][j] = np.clip(np_predictions[i][j], 0, 5)\n",
    "        "
   ]
  },
  {
   "cell_type": "code",
   "execution_count": 8,
   "id": "fa877206",
   "metadata": {},
   "outputs": [
    {
     "data": {
      "text/plain": [
       "0.04346186872921824"
      ]
     },
     "execution_count": 8,
     "metadata": {},
     "output_type": "execute_result"
    }
   ],
   "source": [
    "from sklearn.metrics import mean_squared_error\n",
    "mean_squared_error(np_predictions,test_ds.values)"
   ]
  },
  {
   "cell_type": "code",
   "execution_count": 28,
   "id": "6397f70e",
   "metadata": {},
   "outputs": [],
   "source": [
    "from sklearn.model_selection import train_test_split\n",
    "train_df,test_df = train_test_split(df, test_size=0.2)\n",
    "\n",
    "# Training Dataset\n",
    "train_ds = np.zeros((len(items),len(df['user_id'].unique())))\n",
    "for row in train_df.itertuples():\n",
    "    train_ds[row[2]-1, row[1]-1] = row[3]\n",
    "train_ds = pd.DataFrame(train_ds)\n",
    "\n",
    "# Testing Dataset\n",
    "test_ds = np.zeros((len(items),len(df['user_id'].unique())))\n",
    "for row in test_df.itertuples():\n",
    "    test_ds[row[2]-1, row[1]-1] = row[3]\n",
    "test_ds = pd.DataFrame(test_ds)"
   ]
  },
  {
   "cell_type": "code",
   "execution_count": 33,
   "id": "3fb514bd",
   "metadata": {},
   "outputs": [
    {
     "data": {
      "text/plain": [
       "(1682, 1682)"
      ]
     },
     "execution_count": 33,
     "metadata": {},
     "output_type": "execute_result"
    }
   ],
   "source": [
    "item_mat = np.zeros((len(items),len(items)))\n",
    "delta = 30\n",
    "\n",
    "for i,item_i in enumerate(train_ds.T.values):\n",
    "    mask_i = item_i>0\n",
    "    \n",
    "    for j,item_j in enumerate(train_ds.T.values):\n",
    "        mask_j = item_j>0\n",
    "        \n",
    "        corratedIndices = np.intersect1d(np.where(mask_i),np.where(mask_i))\n",
    "        if(len(corratedIndices)==0):\n",
    "            continue\n",
    "        \n",
    "        mean_item_i = np.sum(item_i)/np.sum(np.clip(item_i,0,1))+EPSILON\n",
    "        mean_item_j = np.sum(item_j)/np.sum(np.clip(item_j,0,1))+EPSILON\n",
    "                                            \n",
    "        subtracted_item_i = item_i[corratedIndices] - mean_item_i\n",
    "        subtracted_item_j = item_j[corratedIndices] - mean_item_j\n",
    "        \n",
    "        subtracted = subtracted_item_i*subtracted_item_j\n",
    "        numerator = np.sum(subtracted)\n",
    "        \n",
    "        sqrt_i = np.sqrt(np.sum(np.square(subtracted_item_i)))\n",
    "        sqrt_j = np.sqrt(np.sum(np.square(subtracted_item_j)))\n",
    "        \n",
    "        denominator = sqrt_i*sqrt_j\n",
    "        \n",
    "        sim = numerator/denominator+EPSILON\n",
    "        \n",
    "        item_mat[i][j] = (min(len(corratedIndices),delta)/delta)*sim\n",
    "  \n",
    "item_mat.shape"
   ]
  },
  {
   "cell_type": "code",
   "execution_count": 35,
   "id": "e7594923",
   "metadata": {},
   "outputs": [
    {
     "data": {
      "text/plain": [
       "array([[ 1.        ,  0.02719766, -0.01299286, ...,  0.        ,\n",
       "         0.        ,  0.        ],\n",
       "       [ 0.21354668,  1.        ,  0.00437246, ...,  0.        ,\n",
       "         0.        ,  0.        ],\n",
       "       [-0.02521883, -0.0401616 ,  1.        , ...,  0.        ,\n",
       "         0.        ,  0.        ],\n",
       "       ...,\n",
       "       [ 0.        ,  0.        ,  0.        , ...,  0.        ,\n",
       "         0.        ,  0.        ],\n",
       "       [ 0.        ,  0.        ,  0.        , ...,  0.        ,\n",
       "         0.        ,  0.        ],\n",
       "       [ 0.        ,  0.        ,  0.        , ...,  0.        ,\n",
       "         0.        ,  0.        ]])"
      ]
     },
     "execution_count": 35,
     "metadata": {},
     "output_type": "execute_result"
    }
   ],
   "source": [
    "k=100\n",
    "np_prediction = np.zeros((train_ds.shape[0],train_ds.shape[1]))\n",
    "\n",
    "for (i,j),rating in np.ndenumerate(test_ds.values):\n",
    "    if rating > 0:\n",
    "        sim_movie_id = np.argsort(item_mat[j])[-k:]\n",
    "        "
   ]
  },
  {
   "cell_type": "code",
   "execution_count": null,
   "id": "7e47a8ea",
   "metadata": {},
   "outputs": [],
   "source": []
  },
  {
   "cell_type": "code",
   "execution_count": null,
   "id": "a1913c89",
   "metadata": {},
   "outputs": [],
   "source": []
  },
  {
   "cell_type": "code",
   "execution_count": null,
   "id": "29b3c42b",
   "metadata": {},
   "outputs": [],
   "source": []
  }
 ],
 "metadata": {
  "kernelspec": {
   "display_name": "Python 3",
   "language": "python",
   "name": "python3"
  },
  "language_info": {
   "codemirror_mode": {
    "name": "ipython",
    "version": 3
   },
   "file_extension": ".py",
   "mimetype": "text/x-python",
   "name": "python",
   "nbconvert_exporter": "python",
   "pygments_lexer": "ipython3",
   "version": "3.8.5"
  }
 },
 "nbformat": 4,
 "nbformat_minor": 5
}
